{
 "cells": [
  {
   "cell_type": "code",
   "execution_count": null,
   "id": "e9e290d4",
   "metadata": {
    "vscode": {
     "languageId": "plaintext"
    }
   },
   "outputs": [],
   "source": [
    "# Importar bibliotecas necessárias\n",
    "import tensorflow as tf\n",
    "from tensorflow.keras import layers, models\n",
    "from tensorflow.keras.applications import VGG16\n",
    "from tensorflow.keras.preprocessing.image import ImageDataGenerator\n",
    "import matplotlib.pyplot as plt\n",
    "import numpy as np\n",
    "import os\n",
    "from sklearn.model_selection import train_test_split"
   ]
  },
  {
   "cell_type": "code",
   "execution_count": null,
   "id": "2ca87b9c",
   "metadata": {
    "vscode": {
     "languageId": "plaintext"
    }
   },
   "outputs": [],
   "source": [
    "# Baixar e extrair o dataset\n",
    "!wget --no-check-certificate \\\n",
    "    https://download.microsoft.com/download/3/E/1/3E1C3F21-ECDB-4869-8368-6DEBA77B919F/kagglecatsanddogs_5340.zip \\\n",
    "    -O /tmp/cats-and-dogs.zip\n",
    "\n",
    "import zipfile\n",
    "local_zip = '/tmp/cats-and-dogs.zip'\n",
    "zip_ref = zipfile.ZipFile(local_zip, 'r')\n",
    "zip_ref.extractall('/tmp')\n",
    "zip_ref.close()"
   ]
  },
  {
   "cell_type": "code",
   "execution_count": null,
   "id": "1464c3cf",
   "metadata": {
    "vscode": {
     "languageId": "plaintext"
    }
   },
   "outputs": [],
   "source": [
    "# Definir diretórios\n",
    "base_dir = '/tmp/PetImages'\n",
    "train_dir = os.path.join(base_dir, 'train')\n",
    "validation_dir = os.path.join(base_dir, 'validation')\n",
    "\n",
    "# Criar diretórios de treino e validação\n",
    "os.makedirs(train_dir, exist_ok=True)\n",
    "os.makedirs(validation_dir, exist_ok=True)\n",
    "\n",
    "# Criar subdiretórios para cada classe\n",
    "train_cats_dir = os.path.join(train_dir, 'Cat')\n",
    "train_dogs_dir = os.path.join(train_dir, 'Dog')\n",
    "validation_cats_dir = os.path.join(validation_dir, 'Cat')\n",
    "validation_dogs_dir = os.path.join(validation_dir, 'Dog')\n",
    "\n",
    "os.makedirs(train_cats_dir, exist_ok=True)\n",
    "os.makedirs(train_dogs_dir, exist_ok=True)\n",
    "os.makedirs(validation_cats_dir, exist_ok=True)\n",
    "os.makedirs(validation_dogs_dir, exist_ok=True)"
   ]
  },
  {
   "cell_type": "code",
   "execution_count": null,
   "id": "f843e40a",
   "metadata": {
    "vscode": {
     "languageId": "plaintext"
    }
   },
   "outputs": [],
   "source": [
    "# Função para dividir os dados\n",
    "def split_data(source, train, validation, split_size):\n",
    "    files = []\n",
    "    for filename in os.listdir(source):\n",
    "        file = os.path.join(source, filename)\n",
    "        if os.path.getsize(file) > 0:\n",
    "            files.append(filename)\n",
    "        else:\n",
    "            print(f\"{filename} está vazio, ignorando.\")\n",
    "\n",
    "    train_files, val_files = train_test_split(files, test_size=split_size, random_state=42)\n",
    "\n",
    "    for filename in train_files:\n",
    "        src = os.path.join(source, filename)\n",
    "        dst = os.path.join(train, filename)\n",
    "        os.rename(src, dst)\n",
    "\n",
    "    for filename in val_files:\n",
    "        src = os.path.join(source, filename)\n",
    "        dst = os.path.join(validation, filename)\n",
    "        os.rename(src, dst)\n",
    "\n",
    "# Aplicar a divisão\n",
    "split_size = 0.2\n",
    "split_data(os.path.join(base_dir, 'Cat'), train_cats_dir, validation_cats_dir, split_size)\n",
    "split_data(os.path.join(base_dir, 'Dog'), train_dogs_dir, validation_dogs_dir, split_size)"
   ]
  },
  {
   "cell_type": "code",
   "execution_count": null,
   "id": "d9a063e6",
   "metadata": {
    "vscode": {
     "languageId": "plaintext"
    }
   },
   "outputs": [],
   "source": [
    "# Configurar geradores de dados\n",
    "train_datagen = ImageDataGenerator(\n",
    "    rescale=1./255,\n",
    "    rotation_range=40,\n",
    "    width_shift_range=0.2,\n",
    "    height_shift_range=0.2,\n",
    "    shear_range=0.2,\n",
    "    zoom_range=0.2,\n",
    "    horizontal_flip=True,\n",
    "    fill_mode='nearest')\n",
    "\n",
    "validation_datagen = ImageDataGenerator(rescale=1./255)\n",
    "\n",
    "# Geradores de fluxo de dados\n",
    "train_generator = train_datagen.flow_from_directory(\n",
    "    train_dir,\n",
    "    target_size=(150, 150),\n",
    "    batch_size=20,\n",
    "    class_mode='binary')\n",
    "\n",
    "validation_generator = validation_datagen.flow_from_directory(\n",
    "    validation_dir,\n",
    "    target_size=(150, 150),\n",
    "    batch_size=20,\n",
    "    class_mode='binary')"
   ]
  },
  {
   "cell_type": "code",
   "execution_count": null,
   "id": "04535564",
   "metadata": {
    "vscode": {
     "languageId": "plaintext"
    }
   },
   "outputs": [],
   "source": [
    "# Carregar modelo base VGG16 (pré-treinado no ImageNet)\n",
    "base_model = VGG16(weights='imagenet',\n",
    "                  include_top=False,\n",
    "                  input_shape=(150, 150, 3))\n",
    "\n",
    "# Congelar camadas do modelo base\n",
    "for layer in base_model.layers:\n",
    "    layer.trainable = False\n",
    "\n",
    "# Criar modelo completo\n",
    "model = models.Sequential([\n",
    "    base_model,\n",
    "    layers.Flatten(),\n",
    "    layers.Dense(256, activation='relu'),\n",
    "    layers.Dropout(0.5),\n",
    "    layers.Dense(1, activation='sigmoid')\n",
    "])\n",
    "\n",
    "# Compilar o modelo\n",
    "model.compile(optimizer='adam',\n",
    "             loss='binary_crossentropy',\n",
    "             metrics=['accuracy'])\n",
    "\n",
    "# Resumo do modelo\n",
    "model.summary()"
   ]
  },
  {
   "cell_type": "code",
   "execution_count": null,
   "id": "b292acb5",
   "metadata": {
    "vscode": {
     "languageId": "plaintext"
    }
   },
   "outputs": [],
   "source": [
    "# Treinar o modelo\n",
    "history = model.fit(\n",
    "    train_generator,\n",
    "    steps_per_epoch=100,\n",
    "    epochs=10,\n",
    "    validation_data=validation_generator,\n",
    "    validation_steps=50)"
   ]
  },
  {
   "cell_type": "code",
   "execution_count": null,
   "id": "cb6e1044",
   "metadata": {
    "vscode": {
     "languageId": "plaintext"
    }
   },
   "outputs": [],
   "source": [
    "# Plotar acurácia e loss\n",
    "acc = history.history['accuracy']\n",
    "val_acc = history.history['val_accuracy']\n",
    "loss = history.history['loss']\n",
    "val_loss = history.history['val_loss']\n",
    "\n",
    "epochs = range(len(acc))\n",
    "\n",
    "plt.plot(epochs, acc, 'bo', label='Training acc')\n",
    "plt.plot(epochs, val_acc, 'b', label='Validation acc')\n",
    "plt.title('Training and validation accuracy')\n",
    "plt.legend()\n",
    "\n",
    "plt.figure()\n",
    "\n",
    "plt.plot(epochs, loss, 'bo', label='Training loss')\n",
    "plt.plot(epochs, val_loss, 'b', label='Validation loss')\n",
    "plt.title('Training and validation loss')\n",
    "plt.legend()\n",
    "\n",
    "plt.show()"
   ]
  },
  {
   "cell_type": "code",
   "execution_count": null,
   "id": "36a8e49c",
   "metadata": {
    "vscode": {
     "languageId": "plaintext"
    }
   },
   "outputs": [],
   "source": [
    "from tensorflow.keras.preprocessing import image\n",
    "import numpy as np\n",
    "\n",
    "def predict_animal(image_path, model):\n",
    "    # Carregar a imagem e redimensionar para o tamanho esperado pelo modelo (150x150)\n",
    "    img = image.load_img(image_path, target_size=(150, 150))\n",
    "\n",
    "    # Converter a imagem para um array numpy\n",
    "    img_array = image.img_to_array(img)\n",
    "\n",
    "    # Adicionar uma dimensão extra (porque o modelo espera um batch de imagens)\n",
    "    img_array = np.expand_dims(img_array, axis=0)\n",
    "\n",
    "    # Normalizar os valores dos pixels (igual fizemos no treinamento)\n",
    "    img_array /= 255.0\n",
    "\n",
    "    # Fazer a predição\n",
    "    prediction = model.predict(img_array)\n",
    "\n",
    "    # Interpretar o resultado\n",
    "    if prediction[0] < 0.5:\n",
    "        return \"Gato\", 1 - prediction[0][0]\n",
    "    else:\n",
    "        return \"Cachorro\", prediction[0][0]\n",
    "\n",
    "# Função para exibir a imagem e a predição\n",
    "def show_prediction(image_path, model):\n",
    "    class_name, confidence = predict_animal(image_path, model)\n",
    "\n",
    "    img = image.load_img(image_path)\n",
    "    plt.imshow(img)\n",
    "    plt.axis('off')\n",
    "    plt.title(f\"Predição: {class_name} ({confidence*100:.2f}% de confiança)\")\n",
    "    plt.show()"
   ]
  },
  {
   "cell_type": "code",
   "execution_count": null,
   "id": "acd7eec9",
   "metadata": {
    "vscode": {
     "languageId": "plaintext"
    }
   },
   "outputs": [],
   "source": [
    "# Exemplo com uma imagem de cachorro\n",
    "!wget https://images.unsplash.com/photo-1561037404-61cd46aa615b -O dog_test.jpg\n",
    "\n",
    "show_prediction(\"dog_test.jpg\", model)\n",
    "\n",
    "# Exemplo com uma imagem de gato\n",
    "!wget https://images.unsplash.com/photo-1514888286974-6c03e2ca1dba -O cat_test.jpg\n",
    "\n",
    "show_prediction(\"cat_test.jpg\", model)"
   ]
  }
 ],
 "metadata": {
  "language_info": {
   "name": "python"
  }
 },
 "nbformat": 4,
 "nbformat_minor": 5
}
